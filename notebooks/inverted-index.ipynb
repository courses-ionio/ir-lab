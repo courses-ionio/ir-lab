{
 "cells": [
  {
   "cell_type": "markdown",
   "id": "da556f82-97b1-40e2-b700-7188fdb7f52e",
   "metadata": {},
   "source": [
    "# Lab 3 - Inverted Index"
   ]
  },
  {
   "cell_type": "markdown",
   "id": "15c1054b-a8d6-460b-aa93-2f5f311b92d3",
   "metadata": {},
   "source": [
    "**Δημιουργία λεξικού εγγράφων `Document : DocID` και λίστας `tuple(term - DocID)`**"
   ]
  },
  {
   "cell_type": "code",
   "execution_count": 104,
   "id": "5df8cc79-7986-4d06-9101-eb0372e41115",
   "metadata": {},
   "outputs": [],
   "source": [
    "DocIDDoc = {}\n",
    "TDiD = []"
   ]
  },
  {
   "cell_type": "markdown",
   "id": "47c91256-4a52-4394-8bdb-5b374c25d25c",
   "metadata": {},
   "source": [
    "**Ανάγνωση των κειμένων από το φάκελο `./shakespear` και _γέμισμα_ λεξικού και λίστας tuples.**"
   ]
  },
  {
   "cell_type": "code",
   "execution_count": 105,
   "id": "0a772521-8c2c-46b7-8fe1-0dfae5164056",
   "metadata": {},
   "outputs": [
    {
     "name": "stdout",
     "output_type": "stream",
     "text": [
      "  1\t A Midsummer Night's Dream     \n",
      "Midsummer Night's Dream: Entire Play\n",
      "['Midsummer', \"Night's\", 'Dream:', 'Entire', 'Play']\n",
      "\n",
      "[]\n",
      "A Midsummer Night's Dream\n",
      "['A', 'Midsummer', \"Night's\", 'Dream']\n",
      "  2\t All's Well That Ends Well     \n",
      "All's Well That Ends Well: Entire Play\n",
      "[\"All's\", 'Well', 'That', 'Ends', 'Well:', 'Entire', 'Play']\n",
      "\n",
      "[]\n",
      "All's Well That Ends Well\n",
      "[\"All's\", 'Well', 'That', 'Ends', 'Well']\n",
      "  3\t As You Like It                \n",
      "As You Like It: Entire Play\n",
      "['As', 'You', 'Like', 'It:', 'Entire', 'Play']\n",
      "\n",
      "[]\n",
      "As You Like It\n",
      "['As', 'You', 'Like', 'It']\n",
      "  4\t Cymbeline                     \n",
      "Cymbeline: Entire Play\n",
      "['Cymbeline:', 'Entire', 'Play']\n",
      "\n",
      "[]\n",
      "Cymbeline\n",
      "['Cymbeline']\n",
      "  5\t Henry IV, part 1              \n",
      "  6\t Henry IV, part 2              \n",
      "  7\t Henry V                       \n",
      "  8\t Henry VI, part 1              \n",
      "  9\t Henry VI, part 2              \n",
      " 10\t Henry VI, part 3              \n",
      " 11\t Henry VIII                    \n",
      " 12\t King John                     \n",
      " 13\t Love's Labours Lost           \n",
      " 14\t Measure for Measure           \n",
      " 15\t Much Ado About Nothing        \n",
      " 16\t Pericles, Prince of Tyre      \n",
      " 17\t Richard II                    \n",
      " 18\t Taming of the Shrew           \n",
      " 19\t The Comedy of Errors          \n",
      " 20\t The Merchant of Venice        \n",
      " 21\t The Merry Wives of Windsor    \n",
      " 22\t The Tempest                   \n",
      " 23\t Troilus and Cressida          \n",
      " 24\t Twelfth Night                 \n",
      " 25\t Two Gentlemen of Verona       \n",
      " 26\t Winter's Tale                 \n"
     ]
    }
   ],
   "source": [
    "import glob\n",
    "maxDocID = 0\n",
    "skip_symbols = \"!\\\"'#$%&()*+-,./:;<=>?@[\\]^_`{|}~\\n\"\n",
    "for f in glob.glob(\"./shakespeare/*.txt\"):\n",
    "    maxDocID += 1\n",
    "    playName = f.replace('./shakespeare/','').replace('.txt','')\n",
    "    DocIDDoc[maxDocID] = playName\n",
    "    print('{0:3d}\\t'.format(maxDocID), '{0: <30}'.format(playName[0:30]))\n",
    "    with open(f) as file:\n",
    "        l = 1\n",
    "        for line in file:\n",
    "            line_as_str = line.rstrip()\n",
    "            line_tokens = line_as_str.split()\n",
    "            l += 1\n",
    "            if maxDocID<5 and l < 5: \n",
    "                print( line_as_str )\n",
    "                print( line_tokens )\n",
    "            for token in line_tokens:\n",
    "                for s in skip_symbols:\n",
    "                    token = token.replace(s, '')\n",
    "                if len(token)>0:\n",
    "                # if skip_symbols.find(token) == -1: \n",
    "                    TDiD.append((token, maxDocID))"
   ]
  },
  {
   "cell_type": "markdown",
   "id": "78aa1ee9-5c72-455d-98f0-9f25fd51c156",
   "metadata": {},
   "source": [
    "**Debug: εμφάνιση 10 πρώτων tuples**"
   ]
  },
  {
   "cell_type": "code",
   "execution_count": 106,
   "id": "19eaf792-4c0b-486d-9751-651311fdd5c6",
   "metadata": {},
   "outputs": [
    {
     "name": "stdout",
     "output_type": "stream",
     "text": [
      "[('Nights', 1), ('Dream', 1), ('Entire', 1), ('Play', 1), ('A', 1), ('Midsummer', 1), ('Nights', 1), ('Dream', 1), ('Shakespeare', 1)]\n"
     ]
    }
   ],
   "source": [
    "print(TDiD[1:10])"
   ]
  },
  {
   "cell_type": "markdown",
   "id": "3aefcaed-460c-4522-9c61-eee0c999da95",
   "metadata": {},
   "source": [
    "**Ταξινόμηση των tuples με βάση τη λέξη (και εκτύπωση των πρώτων Ν):**"
   ]
  },
  {
   "cell_type": "code",
   "execution_count": 111,
   "id": "20abd781-fc0c-4e2c-98c1-eef704920251",
   "metadata": {},
   "outputs": [
    {
     "name": "stdout",
     "output_type": "stream",
     "text": [
      "1 5\n",
      "1 5\n",
      "1 8\n",
      "1 8\n",
      "1 11\n",
      "10 11\n",
      "2 6\n",
      "2 6\n",
      "2 9\n",
      "2 9\n",
      "2 11\n",
      "2d 5\n",
      "2s 5\n",
      "2s 5\n",
      "3 10\n",
      "3 10\n",
      "3 11\n",
      "4 11\n",
      "4d 5\n",
      "5 11\n",
      "5s 5\n",
      "6 11\n",
      "6d 5\n",
      "7 11\n",
      "8 11\n",
      "8d 5\n",
      "9 11\n",
      "A 1\n",
      "A 1\n",
      "A 1\n",
      "A 1\n",
      "A 1\n",
      "A 1\n",
      "A 1\n",
      "A 1\n",
      "A 1\n",
      "A 1\n",
      "A 1\n",
      "A 1\n",
      "A 1\n",
      "A 1\n",
      "A 1\n",
      "A 1\n",
      "A 1\n",
      "A 1\n",
      "A 1\n",
      "A 1\n",
      "A 1\n",
      "A 1\n",
      "A 1\n"
     ]
    }
   ],
   "source": [
    "TDiD.sort(key=lambda tpl: tpl[0])\n",
    "i = 0\n",
    "for (token, DocID) in TDiD:\n",
    "    print(token, DocID)\n",
    "    i += 1\n",
    "    if i >= 50:\n",
    "        break;"
   ]
  },
  {
   "cell_type": "markdown",
   "id": "e1d81e0f-c801-41ed-a9fc-f06ce1e20466",
   "metadata": {},
   "source": [
    "**Δημιουργία dictionary από token σε set από Document IDs (και εκτύπωση των πρώτων Ν):**"
   ]
  },
  {
   "cell_type": "code",
   "execution_count": 108,
   "id": "94e5cac4-a1af-40f7-b4e1-d23bc22c2f83",
   "metadata": {},
   "outputs": [
    {
     "name": "stdout",
     "output_type": "stream",
     "text": [
      "1 {8, 11, 5}\n",
      "10 {11}\n",
      "2 {9, 11, 6}\n",
      "2d {5}\n",
      "2s {5}\n",
      "3 {10, 11}\n",
      "4 {11}\n",
      "4d {5}\n",
      "5 {11}\n",
      "5s {5}\n",
      "6 {11}\n",
      "6d {5}\n",
      "7 {11}\n",
      "8 {11}\n",
      "8d {5}\n",
      "9 {11}\n",
      "A {1, 2, 3, 4, 5, 6, 7, 8, 9, 10, 11, 12, 13, 14, 15, 16, 17, 18, 19, 20, 21, 22, 23, 24, 25, 26}\n",
      "ABERGAVENNY {11}\n",
      "ABHORSON {14}\n",
      "ACHILLES {23}\n"
     ]
    }
   ],
   "source": [
    "TDiDsets = {}\n",
    "for token, DocID in TDiD:\n",
    "    if token in TDiDsets:\n",
    "        TDiDsets[token].add(DocID)\n",
    "    else:\n",
    "        TDiDsets[token] = {DocID}\n",
    "\n",
    "i = 0\n",
    "for token in TDiDsets.keys():\n",
    "    print(token, TDiDsets[token])\n",
    "    i += 1\n",
    "    if i >= 20:\n",
    "        break;"
   ]
  },
  {
   "cell_type": "markdown",
   "id": "c4076b03-eaeb-4226-829e-b2b379845473",
   "metadata": {},
   "source": [
    "**Δημιουργία dictionary από token σε sorted list από Document IDs (και pretty εκτύπωση των πρώτων Ν και του Document frequency κάθε token):**"
   ]
  },
  {
   "cell_type": "code",
   "execution_count": 109,
   "id": "3b7d47b0-5927-42cb-90ec-52e6a5d92604",
   "metadata": {},
   "outputs": [
    {
     "name": "stdout",
     "output_type": "stream",
     "text": [
      "1                              [  3] =>\t [5, 8, 11]\n",
      "10                             [  1] =>\t [11]\n",
      "2                              [  3] =>\t [6, 9, 11]\n",
      "2d                             [  1] =>\t [5]\n",
      "2s                             [  1] =>\t [5]\n",
      "3                              [  2] =>\t [10, 11]\n",
      "4                              [  1] =>\t [11]\n",
      "4d                             [  1] =>\t [5]\n",
      "5                              [  1] =>\t [11]\n",
      "5s                             [  1] =>\t [5]\n",
      "6                              [  1] =>\t [11]\n",
      "6d                             [  1] =>\t [5]\n",
      "7                              [  1] =>\t [11]\n",
      "8                              [  1] =>\t [11]\n",
      "8d                             [  1] =>\t [5]\n",
      "9                              [  1] =>\t [11]\n",
      "A                              [ 26] =>\t [1, 2, 3, 4, 5, 6, 7, 8, 9, 10, 11, 12, 13, 14, 15, 16, 17, 18, 19, 20, 21, 22, 23, 24, 25, 26]\n",
      "ABERGAVENNY                    [  1] =>\t [11]\n",
      "ABHORSON                       [  1] =>\t [14]\n",
      "ACHILLES                       [  1] =>\t [23]\n",
      "ACT                            [ 26] =>\t [1, 2, 3, 4, 5, 6, 7, 8, 9, 10, 11, 12, 13, 14, 15, 16, 17, 18, 19, 20, 21, 22, 23, 24, 25, 26]\n",
      "ADAM                           [  1] =>\t [3]\n",
      "ADRIAN                         [  1] =>\t [22]\n",
      "ADRIANA                        [  1] =>\t [19]\n",
      "ADRIANO                        [  1] =>\t [13]\n",
      "AEGEON                         [  1] =>\t [19]\n",
      "AEMELIA                        [  1] =>\t [19]\n",
      "AEMILIA                        [  1] =>\t [19]\n",
      "AENEAS                         [  1] =>\t [23]\n",
      "AEacida                        [  1] =>\t [9]\n",
      "AEacides                       [  1] =>\t [18]\n",
      "AEgeon                         [  1] =>\t [19]\n",
      "AEgle                          [  1] =>\t [1]\n",
      "AEmilia                        [  1] =>\t [19]\n",
      "AEneas                         [  3] =>\t [9, 22, 23]\n",
      "AEneastake                     [  1] =>\t [23]\n",
      "AEolus                         [  1] =>\t [9]\n",
      "AEsculapius                    [  2] =>\t [16, 21]\n",
      "AEson                          [  1] =>\t [20]\n",
      "AEsop                          [  1] =>\t [10]\n",
      "AGAMEMNON                      [  1] =>\t [23]\n",
      "AGUECHEEK                      [  1] =>\t [24]\n",
      "AJAX                           [  1] =>\t [23]\n",
      "ALENCON                        [  1] =>\t [8]\n",
      "ALEXANDER                      [  2] =>\t [7, 23]\n",
      "ALICE                          [  1] =>\t [7]\n",
      "ALL                            [  7] =>\t [1, 7, 8, 9, 18, 20, 23]\n",
      "ALLS                           [  1] =>\t [2]\n",
      "ALONSO                         [  1] =>\t [22]\n",
      "AMIENS                         [  1] =>\t [3]\n"
     ]
    }
   ],
   "source": [
    "InvertedIndex = {}\n",
    "\n",
    "i = 0\n",
    "for token in TDiDsets.keys():\n",
    "    InvertedIndex[token] = sorted(list(TDiDsets[token]))\n",
    "    \n",
    "    i += 1\n",
    "    if i <= 50:\n",
    "        print('{0: <30}'.format(token[0:30]), '[{0:3d}] =>\\t'.format(len(InvertedIndex[token])), InvertedIndex[token])\n",
    "\n"
   ]
  },
  {
   "cell_type": "markdown",
   "id": "56a4af41-3849-4023-8014-d22f6b6dcdbb",
   "metadata": {},
   "source": [
    "  \n",
    "  \n",
    "**Πώς μπορούμε να αξιοποιήσουμε αυτό το inverted index για να εκτελέσουμε αναζητήσεις συγκεκριμένων term στα κείμενα χρησιμοποιώντας `and`, `or` και `not` λογική;**"
   ]
  },
  {
   "cell_type": "code",
   "execution_count": null,
   "id": "1e036a34-527b-456a-a6b1-c2b91bcc90e7",
   "metadata": {},
   "outputs": [],
   "source": []
  }
 ],
 "metadata": {
  "kernelspec": {
   "display_name": "Python 3 (ipykernel)",
   "language": "python",
   "name": "python3"
  },
  "language_info": {
   "codemirror_mode": {
    "name": "ipython",
    "version": 3
   },
   "file_extension": ".py",
   "mimetype": "text/x-python",
   "name": "python",
   "nbconvert_exporter": "python",
   "pygments_lexer": "ipython3",
   "version": "3.10.2"
  }
 },
 "nbformat": 4,
 "nbformat_minor": 5
}
