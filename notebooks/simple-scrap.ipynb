{
 "cells": [
  {
   "cell_type": "markdown",
   "id": "f9ab030c-7e75-41c0-bbca-b3703b169a09",
   "metadata": {},
   "source": [
    "# Lab 1 - Web scrapping"
   ]
  },
  {
   "cell_type": "code",
   "execution_count": 1,
   "id": "50140e2b-64d8-406d-9a6c-37c2158a1b58",
   "metadata": {},
   "outputs": [
    {
     "name": "stdout",
     "output_type": "stream",
     "text": [
      "\u001b[33mWARNING: Retrying (Retry(total=4, connect=None, read=None, redirect=None, status=None)) after connection broken by 'ReadTimeoutError(\"HTTPSConnectionPool(host='pypi.org', port=443): Read timed out. (read timeout=15)\")': /simple/beautifulsoup4/\u001b[0m\n",
      "\u001b[33mWARNING: Retrying (Retry(total=3, connect=None, read=None, redirect=None, status=None)) after connection broken by 'ReadTimeoutError(\"HTTPSConnectionPool(host='pypi.org', port=443): Read timed out. (read timeout=15)\")': /simple/beautifulsoup4/\u001b[0m\n",
      "\u001b[33mWARNING: Retrying (Retry(total=2, connect=None, read=None, redirect=None, status=None)) after connection broken by 'ReadTimeoutError(\"HTTPSConnectionPool(host='pypi.org', port=443): Read timed out. (read timeout=15)\")': /simple/beautifulsoup4/\u001b[0m\n",
      "\u001b[33mWARNING: Retrying (Retry(total=1, connect=None, read=None, redirect=None, status=None)) after connection broken by 'ReadTimeoutError(\"HTTPSConnectionPool(host='pypi.org', port=443): Read timed out. (read timeout=15)\")': /simple/beautifulsoup4/\u001b[0m\n",
      "Collecting beautifulsoup4\n",
      "\u001b[33m  WARNING: Retrying (Retry(total=4, connect=None, read=None, redirect=None, status=None)) after connection broken by 'ReadTimeoutError(\"HTTPSConnectionPool(host='files.pythonhosted.org', port=443): Read timed out. (read timeout=15)\")': /packages/69/bf/f0f194d3379d3f3347478bd267f754fc68c11cbf2fe302a6ab69447b1417/beautifulsoup4-4.10.0-py3-none-any.whl\u001b[0m\n",
      "\u001b[33m  WARNING: Retrying (Retry(total=3, connect=None, read=None, redirect=None, status=None)) after connection broken by 'ReadTimeoutError(\"HTTPSConnectionPool(host='files.pythonhosted.org', port=443): Read timed out. (read timeout=15)\")': /packages/69/bf/f0f194d3379d3f3347478bd267f754fc68c11cbf2fe302a6ab69447b1417/beautifulsoup4-4.10.0-py3-none-any.whl\u001b[0m\n",
      "  Downloading beautifulsoup4-4.10.0-py3-none-any.whl (97 kB)\n",
      "\u001b[K     |████████████████████████████████| 97 kB 1.5 MB/s eta 0:00:01\n",
      "\u001b[?25hCollecting soupsieve>1.2\n",
      "  Downloading soupsieve-2.3.1-py3-none-any.whl (37 kB)\n",
      "Installing collected packages: soupsieve, beautifulsoup4\n",
      "Successfully installed beautifulsoup4-4.10.0 soupsieve-2.3.1\n",
      "\u001b[33mWARNING: Running pip as the 'root' user can result in broken permissions and conflicting behaviour with the system package manager. It is recommended to use a virtual environment instead: https://pip.pypa.io/warnings/venv\u001b[0m\n",
      "\u001b[33mWARNING: You are using pip version 21.2.4; however, version 22.0.3 is available.\n",
      "You should consider upgrading via the '/usr/local/bin/python -m pip install --upgrade pip' command.\u001b[0m\n",
      "Note: you may need to restart the kernel to use updated packages.\n"
     ]
    }
   ],
   "source": [
    "pip install beautifulsoup4"
   ]
  },
  {
   "cell_type": "markdown",
   "id": "bab8c603-05b9-49d4-be96-f2f3654b6f64",
   "metadata": {},
   "source": [
    "* Step 1: request a url"
   ]
  },
  {
   "cell_type": "code",
   "execution_count": 3,
   "id": "567831c9-a41c-4444-9bfc-6d9a6c0dc951",
   "metadata": {},
   "outputs": [
    {
     "name": "stdout",
     "output_type": "stream",
     "text": [
      "!DOCTYPE HTML PUBLIC \"-//W3C//DTD HTML 4.0 Transitional//EN\"\n",
      " \"http://www.w3.org/TR/REC-html40/loose.dtd\">\n",
      " <html>\n",
      " <head>\n",
      " <title>The Complete Works of William Shakespeare\n",
      " </title>\n",
      " <meta http-equiv=\"Content-Type\" content=\"text/html; charset=iso-8\n"
     ]
    }
   ],
   "source": [
    "from urllib.request import urlopen\n",
    "\n",
    "url = \"http://shakespeare.mit.edu/\"\n",
    "page = urlopen(url)\n",
    "html = page.read().decode(\"utf-8\")\n",
    "print(html[1:250])"
   ]
  },
  {
   "cell_type": "markdown",
   "id": "e2f97d97-c148-4587-ab57-5c8420e00b6d",
   "metadata": {},
   "source": [
    "* Step 2: create a BeautifulSoup object and get all links"
   ]
  },
  {
   "cell_type": "code",
   "execution_count": 52,
   "id": "28356170-6815-45e7-8226-1752143572c3",
   "metadata": {},
   "outputs": [],
   "source": [
    "from bs4 import BeautifulSoup\n",
    "import re\n",
    "soup = BeautifulSoup(html, \"html.parser\")\n",
    "links = soup.find_all('a', href=True)"
   ]
  },
  {
   "cell_type": "markdown",
   "id": "99505169-0cd2-4696-974a-234ed785f426",
   "metadata": {},
   "source": [
    "    * Print a few links"
   ]
  },
  {
   "cell_type": "code",
   "execution_count": 53,
   "id": "50b78462-a66d-497c-97d5-e75c8c75b8a0",
   "metadata": {},
   "outputs": [
    {
     "name": "stdout",
     "output_type": "stream",
     "text": [
      "http://shakespeare.palomar.edu/ Mr. William Shakespeare\n",
      "and the Internet\n",
      "news.html Older news items\n",
      "allswell/index.html \n",
      "All's Well That Ends Well\n",
      "asyoulikeit/index.html \n",
      "As You Like It\n",
      "comedy_errors/index.html \n",
      "The Comedy of Errors\n"
     ]
    }
   ],
   "source": [
    "for l in links[0:5]:\n",
    "    print(l['href'] , l.get_text())"
   ]
  },
  {
   "cell_type": "markdown",
   "id": "a4ea6c28-9447-4b3e-b9bd-d49c6c3a4b6b",
   "metadata": {},
   "source": [
    "    * Remove external links and same level links from list"
   ]
  },
  {
   "cell_type": "code",
   "execution_count": 56,
   "id": "5926814a-cfc8-4ea5-88d8-5d398d86778e",
   "metadata": {},
   "outputs": [
    {
     "data": {
      "text/plain": [
       "{\"All's Well That Ends Well\": 'allswell/index.html',\n",
       " 'As You Like It': 'asyoulikeit/index.html',\n",
       " 'The Comedy of Errors': 'comedy_errors/index.html',\n",
       " 'Cymbeline': 'cymbeline/index.html',\n",
       " \"Love's Labours Lost\": 'lll/index.html',\n",
       " 'Measure for Measure': 'measure/index.html',\n",
       " 'The\\nMerry Wives of Windsor': 'merry_wives/index.html',\n",
       " 'The Merchant of Venice': 'merchant/index.html',\n",
       " \"A Midsummer Night's Dream\": 'midsummer/index.html',\n",
       " 'Much Ado About Nothing': 'much_ado/index.html',\n",
       " 'Pericles, Prince of Tyre': 'pericles/index.html',\n",
       " 'Taming of the Shrew': 'taming_shrew/index.html',\n",
       " 'The Tempest': 'tempest/index.html',\n",
       " 'Troilus and Cressida': 'troilus_cressida/index.html',\n",
       " 'Twelfth Night': 'twelfth_night/index.html',\n",
       " 'Two Gentlemen of Verona': 'two_gentlemen/index.html',\n",
       " \"Winter's Tale\": 'winters_tale/index.html',\n",
       " 'Henry IV, part 1': '1henryiv/index.html',\n",
       " 'Henry IV, part 2': '2henryiv/index.html',\n",
       " 'Henry V': 'henryv/index.html',\n",
       " 'Henry VI, part 1': '1henryvi/index.html',\n",
       " 'Henry VI, part 2': '2henryvi/index.html',\n",
       " 'Henry VI, part 3': '3henryvi/index.html',\n",
       " 'Henry VIII': 'henryviii/index.html',\n",
       " 'King John': 'john/index.html',\n",
       " 'Richard II': 'richardii/index.html',\n",
       " 'Richard III': 'richardiii/index.html',\n",
       " 'Antony and Cleopatra': 'cleopatra/index.html',\n",
       " 'Coriolanus': 'coriolanus/index.html',\n",
       " 'Hamlet': 'hamlet/index.html',\n",
       " 'Julius Caesar': 'julius_caesar/index.html',\n",
       " 'King Lear': 'lear/index.html',\n",
       " 'Macbeth': 'macbeth/index.html',\n",
       " 'Othello': 'othello/index.html',\n",
       " 'Romeo and Juliet': 'romeo_juliet/index.html',\n",
       " 'Timon of Athens': 'timon/index.html',\n",
       " 'Titus Andronicus': 'titus/index.html'}"
      ]
     },
     "execution_count": 56,
     "metadata": {},
     "output_type": "execute_result"
    }
   ],
   "source": [
    "plays = {}\n",
    "for l in links:\n",
    "    href = l['href']\n",
    "    if href.find('http')<0 and href.find('/')>0 and href.find('Poetry/')<0:\n",
    "        text = l.get_text().strip()\n",
    "        plays[text] = href\n",
    "plays"
   ]
  },
  {
   "cell_type": "markdown",
   "id": "52c20ca4-6b61-442f-9997-15e71b2baeb8",
   "metadata": {},
   "source": [
    "* For each link, get full text html and store in a file with tha name of the play."
   ]
  },
  {
   "cell_type": "markdown",
   "id": "c1acfd86-db63-43e1-9733-50c9148816c2",
   "metadata": {},
   "source": [
    "    * Make a folder using shell command"
   ]
  },
  {
   "cell_type": "code",
   "execution_count": 73,
   "id": "6b4cd30a-023d-4854-8c13-d18d853a8adf",
   "metadata": {},
   "outputs": [
    {
     "name": "stdout",
     "output_type": "stream",
     "text": [
      "mkdir: cannot create directory ‘shakespeare’: File exists\n"
     ]
    }
   ],
   "source": [
    "!mkdir shakespeare"
   ]
  },
  {
   "cell_type": "markdown",
   "id": "65c20baa-c5a7-455e-85ca-ad26e9aaaa10",
   "metadata": {},
   "source": [
    "    * For each play, replace 'index.html' with 'full.html', then get with a request and store to file with play name."
   ]
  },
  {
   "cell_type": "code",
   "execution_count": 70,
   "id": "1ec9bbb1-c6a5-4ccd-ba60-dce332e657db",
   "metadata": {},
   "outputs": [
    {
     "name": "stdout",
     "output_type": "stream",
     "text": [
      "All's Well That Ends Well\n",
      "As You Like It\n",
      "The Comedy of Errors\n",
      "Cymbeline\n",
      "Love's Labours Lost\n",
      "Measure for Measure\n",
      "The\n",
      "Merry Wives of Windsor\n",
      "The Merchant of Venice\n",
      "A Midsummer Night's Dream\n",
      "Much Ado About Nothing\n",
      "Pericles, Prince of Tyre\n",
      "Taming of the Shrew\n",
      "The Tempest\n",
      "Troilus and Cressida\n",
      "Twelfth Night\n",
      "Two Gentlemen of Verona\n",
      "Winter's Tale\n",
      "Henry IV, part 1\n",
      "Henry IV, part 2\n",
      "Henry V\n",
      "Henry VI, part 1\n",
      "Henry VI, part 2\n",
      "Henry VI, part 3\n",
      "Henry VIII\n",
      "King John\n",
      "Richard II\n",
      "Richard III\n"
     ]
    },
    {
     "ename": "KeyboardInterrupt",
     "evalue": "",
     "output_type": "error",
     "traceback": [
      "\u001b[0;31m---------------------------------------------------------------------------\u001b[0m",
      "\u001b[0;31mKeyboardInterrupt\u001b[0m                         Traceback (most recent call last)",
      "Input \u001b[0;32mIn [70]\u001b[0m, in \u001b[0;36m<module>\u001b[0;34m\u001b[0m\n\u001b[1;32m      4\u001b[0m play_html \u001b[38;5;241m=\u001b[39m play_page\u001b[38;5;241m.\u001b[39mread()\u001b[38;5;241m.\u001b[39mdecode(\u001b[38;5;124m\"\u001b[39m\u001b[38;5;124mutf-8\u001b[39m\u001b[38;5;124m\"\u001b[39m)\n\u001b[1;32m      5\u001b[0m play_soup \u001b[38;5;241m=\u001b[39m BeautifulSoup(play_html, \u001b[38;5;124m\"\u001b[39m\u001b[38;5;124mhtml.parser\u001b[39m\u001b[38;5;124m\"\u001b[39m)\n\u001b[0;32m----> 6\u001b[0m play_text \u001b[38;5;241m=\u001b[39m \u001b[43mplay_soup\u001b[49m\u001b[38;5;241;43m.\u001b[39;49m\u001b[43mget_text\u001b[49m\u001b[43m(\u001b[49m\u001b[43m)\u001b[49m    \n\u001b[1;32m      7\u001b[0m play_text \u001b[38;5;241m=\u001b[39m re\u001b[38;5;241m.\u001b[39msub(\u001b[38;5;124mr\u001b[39m\u001b[38;5;124m'\u001b[39m\u001b[38;5;124m\\\u001b[39m\u001b[38;5;124mn+\u001b[39m\u001b[38;5;124m'\u001b[39m, \u001b[38;5;124m'\u001b[39m\u001b[38;5;130;01m\\n\u001b[39;00m\u001b[38;5;124m'\u001b[39m, play_text)\u001b[38;5;241m.\u001b[39mstrip()\n\u001b[1;32m      8\u001b[0m \u001b[38;5;66;03m# print(play_text[0:500] )\u001b[39;00m\n",
      "File \u001b[0;32m/usr/local/lib/python3.10/site-packages/bs4/element.py:294\u001b[0m, in \u001b[0;36mPageElement.get_text\u001b[0;34m(self, separator, strip, types)\u001b[0m\n\u001b[1;32m    275\u001b[0m \u001b[38;5;28;01mdef\u001b[39;00m \u001b[38;5;21mget_text\u001b[39m(\u001b[38;5;28mself\u001b[39m, separator\u001b[38;5;241m=\u001b[39m\u001b[38;5;124m\"\u001b[39m\u001b[38;5;124m\"\u001b[39m, strip\u001b[38;5;241m=\u001b[39m\u001b[38;5;28;01mFalse\u001b[39;00m,\n\u001b[1;32m    276\u001b[0m              types\u001b[38;5;241m=\u001b[39mdefault):\n\u001b[1;32m    277\u001b[0m     \u001b[38;5;124;03m\"\"\"Get all child strings of this PageElement, concatenated using the\u001b[39;00m\n\u001b[1;32m    278\u001b[0m \u001b[38;5;124;03m    given separator.\u001b[39;00m\n\u001b[1;32m    279\u001b[0m \n\u001b[0;32m   (...)\u001b[0m\n\u001b[1;32m    292\u001b[0m \u001b[38;5;124;03m    :return: A string.\u001b[39;00m\n\u001b[1;32m    293\u001b[0m \u001b[38;5;124;03m    \"\"\"\u001b[39;00m\n\u001b[0;32m--> 294\u001b[0m     \u001b[38;5;28;01mreturn\u001b[39;00m separator\u001b[38;5;241m.\u001b[39mjoin([s \u001b[38;5;28;01mfor\u001b[39;00m s \u001b[38;5;129;01min\u001b[39;00m \u001b[38;5;28mself\u001b[39m\u001b[38;5;241m.\u001b[39m_all_strings(\n\u001b[1;32m    295\u001b[0m                 strip, types\u001b[38;5;241m=\u001b[39mtypes)])\n",
      "File \u001b[0;32m/usr/local/lib/python3.10/site-packages/bs4/element.py:294\u001b[0m, in \u001b[0;36m<listcomp>\u001b[0;34m(.0)\u001b[0m\n\u001b[1;32m    275\u001b[0m \u001b[38;5;28;01mdef\u001b[39;00m \u001b[38;5;21mget_text\u001b[39m(\u001b[38;5;28mself\u001b[39m, separator\u001b[38;5;241m=\u001b[39m\u001b[38;5;124m\"\u001b[39m\u001b[38;5;124m\"\u001b[39m, strip\u001b[38;5;241m=\u001b[39m\u001b[38;5;28;01mFalse\u001b[39;00m,\n\u001b[1;32m    276\u001b[0m              types\u001b[38;5;241m=\u001b[39mdefault):\n\u001b[1;32m    277\u001b[0m     \u001b[38;5;124;03m\"\"\"Get all child strings of this PageElement, concatenated using the\u001b[39;00m\n\u001b[1;32m    278\u001b[0m \u001b[38;5;124;03m    given separator.\u001b[39;00m\n\u001b[1;32m    279\u001b[0m \n\u001b[0;32m   (...)\u001b[0m\n\u001b[1;32m    292\u001b[0m \u001b[38;5;124;03m    :return: A string.\u001b[39;00m\n\u001b[1;32m    293\u001b[0m \u001b[38;5;124;03m    \"\"\"\u001b[39;00m\n\u001b[0;32m--> 294\u001b[0m     \u001b[38;5;28;01mreturn\u001b[39;00m separator\u001b[38;5;241m.\u001b[39mjoin([s \u001b[38;5;28;01mfor\u001b[39;00m s \u001b[38;5;129;01min\u001b[39;00m \u001b[38;5;28mself\u001b[39m\u001b[38;5;241m.\u001b[39m_all_strings(\n\u001b[1;32m    295\u001b[0m                 strip, types\u001b[38;5;241m=\u001b[39mtypes)])\n",
      "File \u001b[0;32m/usr/local/lib/python3.10/site-packages/bs4/element.py:1351\u001b[0m, in \u001b[0;36mTag._all_strings\u001b[0;34m(self, strip, types)\u001b[0m\n\u001b[1;32m   1348\u001b[0m     types \u001b[38;5;241m=\u001b[39m \u001b[38;5;28mself\u001b[39m\u001b[38;5;241m.\u001b[39minteresting_string_types\n\u001b[1;32m   1350\u001b[0m \u001b[38;5;28;01mfor\u001b[39;00m descendant \u001b[38;5;129;01min\u001b[39;00m \u001b[38;5;28mself\u001b[39m\u001b[38;5;241m.\u001b[39mdescendants:\n\u001b[0;32m-> 1351\u001b[0m     \u001b[38;5;28;01mif\u001b[39;00m (types \u001b[38;5;129;01mis\u001b[39;00m \u001b[38;5;28;01mNone\u001b[39;00m \u001b[38;5;129;01mand\u001b[39;00m \u001b[38;5;129;01mnot\u001b[39;00m \u001b[38;5;28misinstance\u001b[39m(descendant, NavigableString)):\n\u001b[1;32m   1352\u001b[0m         \u001b[38;5;28;01mcontinue\u001b[39;00m\n\u001b[1;32m   1353\u001b[0m     descendant_type \u001b[38;5;241m=\u001b[39m \u001b[38;5;28mtype\u001b[39m(descendant)\n",
      "\u001b[0;31mKeyboardInterrupt\u001b[0m: "
     ]
    }
   ],
   "source": [
    "for p in plays:\n",
    "    print(p)\n",
    "    play_page = urlopen(url+plays[p].replace('index', 'full') )\n",
    "    play_html = play_page.read().decode(\"utf-8\")\n",
    "    play_soup = BeautifulSoup(play_html, \"html.parser\")\n",
    "    play_text = play_soup.get_text()    \n",
    "    play_text = re.sub(r'\\n+', '\\n', play_text).strip()\n",
    "    # print(play_text[0:500] )\n",
    "    with open('./shakespeare/'+p+'.txt', 'w') as f:\n",
    "        f.write(play_text)"
   ]
  },
  {
   "cell_type": "code",
   "execution_count": null,
   "id": "47216fca-4cd9-453d-81ec-46c62536bf65",
   "metadata": {},
   "outputs": [],
   "source": []
  }
 ],
 "metadata": {
  "kernelspec": {
   "display_name": "Python 3 (ipykernel)",
   "language": "python",
   "name": "python3"
  },
  "language_info": {
   "codemirror_mode": {
    "name": "ipython",
    "version": 3
   },
   "file_extension": ".py",
   "mimetype": "text/x-python",
   "name": "python",
   "nbconvert_exporter": "python",
   "pygments_lexer": "ipython3",
   "version": "3.10.2"
  }
 },
 "nbformat": 4,
 "nbformat_minor": 5
}
